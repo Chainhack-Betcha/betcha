{
 "cells": [
  {
   "cell_type": "code",
   "execution_count": 56,
   "metadata": {},
   "outputs": [
    {
     "data": {
      "text/plain": [
       "Text(0.5,0,'t - time')"
      ]
     },
     "execution_count": 56,
     "metadata": {},
     "output_type": "execute_result"
    },
    {
     "data": {
      "image/png": "[encoded data removed]",
      "text/plain": [
       "<Figure size 432x288 with 1 Axes>"
      ]
     },
     "metadata": {},
     "output_type": "display_data"
    }
   ],
   "source": [
    "import numpy as np\n",
    "import matplotlib.pyplot as plt\n",
    "t = np.linspace(0,10)\n",
    "b1=10 # to be altered\n",
    "b2=1 # to be altered\n",
    "e = b1*np.exp(-b2*t)+1\n",
    "plt.style.use(\"seaborn-whitegrid\")\n",
    "plt.subplot(111)\n",
    "plt.plot(t,e)\n",
    "plt.xticks([])\n",
    "plt.yticks(np.arange(1, 11, 1))\n",
    "plt.xticks(np.arange(0, 11, 1))\n",
    "plt.ylabel(r\"$e^{-\\beta_{2} t}$\")\n",
    "plt.xlabel(\"t - time\")\n"
   ]
  },
  {
   "cell_type": "markdown",
   "metadata": {},
   "source": [
    "## Betting Formula for Observers on Betcha\n",
    "\\begin{align}\n",
    "\\\\\n",
    "B (w_i,t_i) = \\beta_{1}e^{-\\beta_{2} t_i} \\frac{w_i}{\\sum^{n}_{k=1}w_k} \\sum^{m}_{k=1}l_j \n",
    "\\\\\n",
    "\\\\\n",
    "\\end{align}\n",
    "where $w_i$ = money bet by ith person in the winner side   \n",
    "      $t_i$ = time when ith person place the bet   \n",
    "      $l_j$ = money bet by jth person in the loser side"
   ]
  },
  {
   "cell_type": "markdown",
   "metadata": {},
   "source": [
    "\\begin{align}\n",
    "\\\\\n",
    "\\sum^{n}_{i=1}B(w_i,t_i) &= \\sum^{m}_{k=1}l_j\n",
    "\\\\\n",
    "\\end{align}\n",
    "The sum of the money paid to the winners is equal to the Loser Pot,\n",
    "We can then use the bootstrapping method to calculate $\\beta_{1}$ and $\\beta_{2}$.  \n",
    "Hence deducing the money obtained by individuals in the winner side."
   ]
  },
  {
   "cell_type": "code",
   "execution_count": null,
   "metadata": {},
   "outputs": [],
   "source": []
  }
 ],
 "metadata": {
  "kernelspec": {
   "display_name": "Python 3",
   "language": "python",
   "name": "python3"
  },
  "language_info": {
   "codemirror_mode": {
    "name": "ipython",
    "version": 3
   },
   "file_extension": ".py",
   "mimetype": "text/x-python",
   "name": "python",
   "nbconvert_exporter": "python",
   "pygments_lexer": "ipython3",
   "version": "3.6.5"
  }
 },
 "nbformat": 4,
 "nbformat_minor": 2
}
